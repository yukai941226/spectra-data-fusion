{
 "cells": [
  {
   "cell_type": "markdown",
   "id": "7822124d-1969-4276-99e3-03c88735e50c",
   "metadata": {},
   "source": [
    "# 数据读取"
   ]
  },
  {
   "cell_type": "code",
   "execution_count": 1,
   "id": "35a61c4d-6b96-4c66-9a70-c91a635adb54",
   "metadata": {},
   "outputs": [],
   "source": [
    "import pandas as pd\n",
    "import numpy as np\n",
    "import matplotlib.pyplot as plt\n",
    "from scipy.signal import savgol_filter\n",
    "from sklearn.decomposition import PCA\n",
    "from sklearn.preprocessing import StandardScaler\n",
    "from sklearn.metrics import mean_squared_error, r2_score\n",
    "from sklearn.model_selection import train_test_split, cross_val_score\n",
    "\n",
    "from sklearn.linear_model import LogisticRegression,LinearRegression\n",
    "from sklearn.pipeline import make_pipeline\n",
    "from sklearn.model_selection import GridSearchCV,cross_validate,KFold,cross_val_predict\n",
    "from sklearn.cross_decomposition import PLSRegression\n",
    "# 实用函数\n",
    "from sklearn.model_selection import train_test_split\n",
    "from sklearn.metrics import accuracy_score,recall_score, precision_score, f1_score, roc_auc_score,make_scorer\n",
    "\n",
    "import time\n",
    "import spectrapepper as spep\n",
    "\n",
    "from spectra_processing import *"
   ]
  },
  {
   "cell_type": "code",
   "execution_count": 2,
   "id": "feec8a52-b934-45d8-9a52-c63e8940b784",
   "metadata": {},
   "outputs": [],
   "source": [
    "FTIR_train=pd.read_csv('数据集/FTIR_rabbit_train_ave_mean center.csv',index_col=0)\n",
    "FTIR_test=pd.read_csv('数据集/FTIR_rabbit_test_ave_mean center.csv',index_col=0)\n",
    "FTIR_wavenum=np.array(FTIR_train.columns.tolist()[7:],dtype='float')\n",
    "FTIR_datatrain=FTIR_train.iloc[:,7:]\n",
    "\n",
    "Raman_train=pd.read_csv('数据集/Raman_rabbit_train_ave_mean center.csv',index_col=0)\n",
    "Raman_test=pd.read_csv('数据集/Raman_rabbit_test_ave_mean center.csv',index_col=0)\n",
    "Raman_wavenum=np.array(Raman_train.columns.tolist()[7:],dtype='float')\n",
    "Raman_datatrain=Raman_train.iloc[:,7:]\n",
    "\n",
    "Combine_train=pd.concat([FTIR_train,Raman_train.iloc[:,7:]],axis=1)\n",
    "Combine_test=pd.concat([FTIR_test,Raman_test.iloc[:,7:]],axis=1)\n",
    "Combine_wavenum=np.array(Combine_train.columns.tolist()[7:],dtype='float')\n",
    "Combine_datatrain=Combine_train.iloc[:,7:]"
   ]
  },
  {
   "cell_type": "code",
   "execution_count": 3,
   "id": "396ad08a-1e6a-4f61-92da-ca503f1e5dbd",
   "metadata": {},
   "outputs": [],
   "source": [
    "data_FTIR_train=FTIR_train.copy()\n",
    "data_FTIR_test=FTIR_test.copy()\n",
    "\n",
    "\n",
    "data_FTIR_train['label1'].replace(to_replace='Q',value=1,inplace=True)\n",
    "data_FTIR_train['label1'].replace(to_replace='S',value=0,inplace=True)\n",
    "data_FTIR_train['label6'].replace(to_replace='Q',value=1,inplace=True)\n",
    "data_FTIR_train['label6'].replace(to_replace='QS',value=2,inplace=True)\n",
    "data_FTIR_train['label6'].replace(to_replace='S',value=0,inplace=True)\n",
    "\n",
    "data_FTIR_test['label1'].replace(to_replace='Q',value=1,inplace=True)\n",
    "data_FTIR_test['label1'].replace(to_replace='S',value=0,inplace=True)\n",
    "data_FTIR_test['label6'].replace(to_replace='Q',value=1,inplace=True)\n",
    "data_FTIR_test['label6'].replace(to_replace='QS',value=2,inplace=True)\n",
    "data_FTIR_test['label6'].replace(to_replace='S',value=0,inplace=True)\n",
    "\n",
    "data_Raman_train=Raman_train.copy()\n",
    "data_Raman_test=Raman_test.copy()\n",
    "\n",
    "\n",
    "data_Raman_train['label_1'].replace(to_replace='Q',value=1,inplace=True)\n",
    "data_Raman_train['label_1'].replace(to_replace='S',value=0,inplace=True)\n",
    "data_Raman_train['label_6'].replace(to_replace='Q',value=1,inplace=True)\n",
    "data_Raman_train['label_6'].replace(to_replace='QS',value=2,inplace=True)\n",
    "data_Raman_train['label_6'].replace(to_replace='S',value=0,inplace=True)\n",
    "\n",
    "data_Raman_test['label_1'].replace(to_replace='Q',value=1,inplace=True)\n",
    "data_Raman_test['label_1'].replace(to_replace='S',value=0,inplace=True)\n",
    "data_Raman_test['label_6'].replace(to_replace='Q',value=1,inplace=True)\n",
    "data_Raman_test['label_6'].replace(to_replace='QS',value=2,inplace=True)\n",
    "data_Raman_test['label_6'].replace(to_replace='S',value=0,inplace=True)\n",
    "\n",
    "\n",
    "data_Combine_train=Combine_train.copy()\n",
    "data_Combine_test=Combine_test.copy()\n",
    "\n",
    "\n",
    "data_Combine_train['label1'].replace(to_replace='Q',value=1,inplace=True)\n",
    "data_Combine_train['label1'].replace(to_replace='S',value=0,inplace=True)\n",
    "data_Combine_train['label6'].replace(to_replace='Q',value=1,inplace=True)\n",
    "data_Combine_train['label6'].replace(to_replace='QS',value=2,inplace=True)\n",
    "data_Combine_train['label6'].replace(to_replace='S',value=0,inplace=True)\n",
    "\n",
    "data_Combine_test['label1'].replace(to_replace='Q',value=1,inplace=True)\n",
    "data_Combine_test['label1'].replace(to_replace='S',value=0,inplace=True)\n",
    "data_Combine_test['label6'].replace(to_replace='Q',value=1,inplace=True)\n",
    "data_Combine_test['label6'].replace(to_replace='QS',value=2,inplace=True)\n",
    "data_Combine_test['label6'].replace(to_replace='S',value=0,inplace=True)"
   ]
  },
  {
   "cell_type": "code",
   "execution_count": 4,
   "id": "2b790bb4-28cf-473b-8f97-9fe85e1444c1",
   "metadata": {},
   "outputs": [],
   "source": [
    "x_FTIR_train=data_FTIR_train.iloc[:,7:].values\n",
    "y_FTIR_train_two=data_FTIR_train['label1'].values\n",
    "y_FTIR_train_three=data_FTIR_train['label6'].values\n",
    "x_FTIR_test=data_FTIR_test.iloc[:,7:].values\n",
    "y_FTIR_test_two=data_FTIR_test['label1'].values\n",
    "y_FTIR_test_three=data_FTIR_test['label6'].values\n",
    "\n",
    "\n",
    "\n",
    "x_Raman_train=data_Raman_train.iloc[:,7:].values\n",
    "y_Raman_train_two=data_Raman_train['label_1'].values\n",
    "y_Raman_train_three=data_Raman_train['label_6'].values\n",
    "x_Raman_test=data_Raman_test.iloc[:,7:].values\n",
    "y_Raman_test_two=data_Raman_test['label_1'].values\n",
    "y_Raman_test_three=data_Raman_test['label_6'].values\n",
    "\n",
    "\n",
    "x_Combine_train=data_Combine_train.iloc[:,7:].values\n",
    "y_Combine_train_two=data_Combine_train['label1'].values\n",
    "y_Combine_train_three=data_Combine_train['label6'].values\n",
    "x_Combine_test=data_Combine_test.iloc[:,7:].values\n",
    "y_Combine_test_two=data_Combine_test['label1'].values\n",
    "y_Combine_test_three=data_Combine_test['label6'].values\n",
    "\n",
    "label_1=Combine_test['label1']\n",
    "label_6=Combine_test['label6']\n",
    "label_2=Combine_test['label2']\n",
    "\n",
    "label_two= list(set(label_1))\n",
    "label_two.sort()\n",
    "label_three=list(set(label_6))\n",
    "label_three.sort()\n",
    "label_post=list(set(label_2))\n",
    "label_post.sort()"
   ]
  },
  {
   "cell_type": "markdown",
   "id": "5afed9a0-acc1-4143-84d2-501fbea80139",
   "metadata": {},
   "source": [
    "# FTIR建模"
   ]
  },
  {
   "cell_type": "code",
   "execution_count": 5,
   "id": "6a68e2e2-d788-423b-a603-243fc3b542c9",
   "metadata": {},
   "outputs": [],
   "source": [
    "from sklearn.svm import SVC\n",
    "import matplotlib.pyplot as plt\n",
    "import numpy as np \n",
    "import time"
   ]
  },
  {
   "cell_type": "code",
   "execution_count": 6,
   "id": "8912a0ba-18d0-4c11-823e-c3dd78b5a2cf",
   "metadata": {},
   "outputs": [],
   "source": [
    "#打包成函数供后续使用\n",
    "#评估指标RMSE\n",
    "def ACC(cvresult,key):\n",
    "    return (cvresult[key].mean())\n",
    "\n",
    "#计算参数空间大小\n",
    "def count_space(param):\n",
    "    no_option = 1\n",
    "    for i in param:\n",
    "        no_option *= len(param[i])\n",
    "    print(no_option)\n",
    "    \n",
    "#在最优参数上进行重新建模验证结果\n",
    "def rebuild_on_best_param(ad_reg,X,y):\n",
    "    cv = KFold(n_splits=5,shuffle=True,random_state=1412)\n",
    "    result_post_adjusted = cross_validate(ad_reg,X,y,cv=cv,scoring=\"accuracy\"\n",
    "                                          ,return_train_score=True\n",
    "                                          ,verbose=True\n",
    "                                          ,n_jobs=-1)\n",
    "    print(\"训练accuracy:{:.3f}\".format(ACC(result_post_adjusted,\"train_score\")))\n",
    "    print(\"测试accuracy:{:.3f}\".format(ACC(result_post_adjusted,\"test_score\")))\n",
    "    \n",
    "\n",
    "def result_df(model, X_train, y_train, X_test, y_test, metrics=\n",
    "              [accuracy_score, recall_score, precision_score, f1_score]):\n",
    "    res_train = []\n",
    "    res_test = []\n",
    "    col_name = []\n",
    "    for fun in metrics:\n",
    "        res_train.append(fun(y_train,model.predict(X_train)))\n",
    "        res_test.append(fun(y_test,model.predict(X_test))) \n",
    "        col_name.append(fun.__name__)\n",
    "    idx_name = ['train_eval', 'test_eval']\n",
    "    res = pd.DataFrame([res_train, res_test], columns=col_name, index=idx_name)\n",
    "    return res\n",
    "\n",
    "def result_multi(model, X_train, y_train, X_test, y_test, metrics=\n",
    "              [accuracy_score, recall_score, precision_score, f1_score]):\n",
    "    res_train = []\n",
    "    res_test = []\n",
    "    col_name = []\n",
    "    \n",
    "    res_train.append(accuracy_score(model.predict(X_train), y_train))\n",
    "    res_test.append(accuracy_score(model.predict(X_test), y_test))\n",
    "    col_name.append('accuracy_score')\n",
    "    \n",
    "    for fun in metrics[1:4]:\n",
    "        res_train.append(fun(y_train,model.predict(X_train), average='macro'))\n",
    "        res_test.append(fun(y_test,model.predict(X_test),average='macro')) \n",
    "        col_name.append(fun.__name__)\n",
    "    idx_name = ['train_eval', 'test_eval']\n",
    "    res = pd.DataFrame([res_train, res_test], columns=col_name, index=idx_name)\n",
    "    return res"
   ]
  },
  {
   "cell_type": "code",
   "execution_count": 7,
   "id": "648ed644-b54f-4047-a978-db58fb3fe036",
   "metadata": {},
   "outputs": [],
   "source": [
    "## TPE搜索\n",
    "import hyperopt\n",
    "from hyperopt import hp, fmin, tpe, Trials, partial\n",
    "from hyperopt.early_stop import no_progress_loss\n",
    "\n",
    "\n",
    "def hyperopt_objective(params):\n",
    "    \n",
    "    #定义评估器\n",
    "    #需要搜索的参数需要从输入的字典中索引出来\n",
    "    #不需要搜索的参数，可以是设置好的某个值\n",
    "    #在需要整数的参数前调整参数类型\n",
    "    clf=SVC(cache_size=5000\n",
    "           ,kernel=params['kernel']\n",
    "           ,gamma=params['gamma']\n",
    "           ,degree=int(params['degree'])\n",
    "           ,coef0=params['coef0']\n",
    "           ,random_state=225)\n",
    "    \n",
    "    cv=KFold(n_splits=10,shuffle=True,random_state=int(params['random_state']))\n",
    "    result_bench = cross_validate(clf,x_FTIR_train,y_FTIR_train_two,cv=cv,scoring=\"accuracy\"\n",
    "                          ,return_train_score=True\n",
    "                          ,verbose=0\n",
    "                          ,n_jobs=48\n",
    "                          ,error_score='raise')\n",
    " \n",
    "    \n",
    "    \n",
    "    #最终输出结果，由于只能取最小值，所以必须对（-RMSE）求绝对值\n",
    "    #以求解最小RMSE所对应的参数组合\n",
    "    return -(np.mean(result_bench['test_score']))\n",
    " \n",
    "    \n",
    "\n",
    "param_grid_tpe = {'kernel': hp.choice(\"kernel\",['linear','poly','rbf','sigmoid'])\n",
    "                     ,'gamma': hp.uniform(\"gamma\",0,20)\n",
    "                     ,'degree':hp.quniform('degree',1,4,1)\n",
    "                     ,'coef0':hp.uniform(\"coef0\",1,30)\n",
    "                     ,'random_state':hp.quniform('random_state',1,1000,1)\n",
    "                    }\n",
    "# best params:  {'coef0': 9.603275658203557, 'degree': 2.0, 'gamma': 6.119016770591143, 'kernel': 1} 0.776\n",
    "\n",
    "def param_hyperopt(max_evals=100,n=50):\n",
    "    \n",
    "    #保存迭代过程\n",
    "    trials = Trials()\n",
    "    \n",
    "    #设置提前停止\n",
    "    early_stop_fn = no_progress_loss(n)\n",
    "    \n",
    "    #定义代理模型\n",
    "    #algo = partial(tpe.suggest, n_startup_jobs=20, n_EI_candidates=50)\n",
    "    params_best = fmin(hyperopt_objective #目标函数\n",
    "                       , space = param_grid_tpe #参数空间\n",
    "                       , algo = tpe.suggest #代理模型你要哪个呢？\n",
    "                       #, algo = algo\n",
    "                       , max_evals = max_evals #允许的迭代次数\n",
    "                       , verbose=1\n",
    "                       , trials = trials\n",
    "                       , early_stop_fn = early_stop_fn\n",
    "                      )\n",
    "    \n",
    "    #打印最优参数，fmin会自动打印最佳分数\n",
    "    print(\"\\n\",\"\\n\",\"best params: \", params_best,\n",
    "          \"\\n\")\n",
    "    return params_best, trials\n",
    "\n",
    "## params_best, trials = param_hyperopt(1000,200)"
   ]
  },
  {
   "cell_type": "code",
   "execution_count": 8,
   "id": "ec9a34cc-65cb-4507-b32b-ad1980123302",
   "metadata": {},
   "outputs": [
    {
     "name": "stderr",
     "output_type": "stream",
     "text": [
      "[Parallel(n_jobs=-1)]: Using backend LokyBackend with 8 concurrent workers.\n",
      "[Parallel(n_jobs=-1)]: Done   6 out of  10 | elapsed:   11.1s remaining:    7.4s\n"
     ]
    },
    {
     "name": "stdout",
     "output_type": "stream",
     "text": [
      "train_score: 0.9804908967717963 \n",
      "test_score: 0.7773618538324422\n"
     ]
    },
    {
     "name": "stderr",
     "output_type": "stream",
     "text": [
      "[Parallel(n_jobs=-1)]: Done  10 out of  10 | elapsed:   14.7s finished\n"
     ]
    }
   ],
   "source": [
    "clf=SVC(cache_size=5000\n",
    "           ,kernel='poly'\n",
    "           ,gamma=19\n",
    "           ,degree=2\n",
    "           ,coef0=16\n",
    "           ,probability=True\n",
    "           ,random_state=225)\n",
    "    \n",
    "cv=KFold(n_splits=10,shuffle=True,random_state=3763)\n",
    "result_bench = cross_validate(clf,x_FTIR_train,y_FTIR_train_two,cv=cv,scoring=\"accuracy\"\n",
    "                          ,return_train_score=True\n",
    "                          ,verbose=1\n",
    "                          ,n_jobs=-1)\n",
    "\n",
    "print('train_score:',np.mean(result_bench['train_score'])\n",
    "      ,'\\n''test_score:',np.mean(result_bench['test_score']))"
   ]
  },
  {
   "cell_type": "code",
   "execution_count": 9,
   "id": "5902ddce-145b-4864-b3ee-e0d54b3122d5",
   "metadata": {},
   "outputs": [
    {
     "data": {
      "text/html": [
       "<div>\n",
       "<style scoped>\n",
       "    .dataframe tbody tr th:only-of-type {\n",
       "        vertical-align: middle;\n",
       "    }\n",
       "\n",
       "    .dataframe tbody tr th {\n",
       "        vertical-align: top;\n",
       "    }\n",
       "\n",
       "    .dataframe thead th {\n",
       "        text-align: right;\n",
       "    }\n",
       "</style>\n",
       "<table border=\"1\" class=\"dataframe\">\n",
       "  <thead>\n",
       "    <tr style=\"text-align: right;\">\n",
       "      <th></th>\n",
       "      <th>accuracy_score</th>\n",
       "      <th>recall_score</th>\n",
       "      <th>precision_score</th>\n",
       "      <th>f1_score</th>\n",
       "    </tr>\n",
       "  </thead>\n",
       "  <tbody>\n",
       "    <tr>\n",
       "      <th>train_eval</th>\n",
       "      <td>0.979167</td>\n",
       "      <td>0.982143</td>\n",
       "      <td>0.976331</td>\n",
       "      <td>0.979228</td>\n",
       "    </tr>\n",
       "    <tr>\n",
       "      <th>test_eval</th>\n",
       "      <td>0.785714</td>\n",
       "      <td>0.761905</td>\n",
       "      <td>0.800000</td>\n",
       "      <td>0.780488</td>\n",
       "    </tr>\n",
       "  </tbody>\n",
       "</table>\n",
       "</div>"
      ],
      "text/plain": [
       "            accuracy_score  recall_score  precision_score  f1_score\n",
       "train_eval        0.979167      0.982143         0.976331  0.979228\n",
       "test_eval         0.785714      0.761905         0.800000  0.780488"
      ]
     },
     "execution_count": 9,
     "metadata": {},
     "output_type": "execute_result"
    }
   ],
   "source": [
    "result_df(clf.fit(x_FTIR_train,y_FTIR_train_two),x_FTIR_train,y_FTIR_train_two,x_FTIR_test,y_FTIR_test_two)"
   ]
  },
  {
   "cell_type": "code",
   "execution_count": 10,
   "id": "5fb3a8b3-a18e-4435-9010-06a6b9d6065e",
   "metadata": {},
   "outputs": [
    {
     "data": {
      "text/plain": [
       "(1, 147)"
      ]
     },
     "execution_count": 10,
     "metadata": {},
     "output_type": "execute_result"
    }
   ],
   "source": [
    "clf.dual_coef_.shape"
   ]
  },
  {
   "cell_type": "markdown",
   "id": "eb9799b7-725a-4e54-b33a-ae74d0bb5323",
   "metadata": {},
   "source": [
    "# Raman 建模"
   ]
  },
  {
   "cell_type": "code",
   "execution_count": 11,
   "id": "dd6f0e12-ef05-4708-9611-af62fd9199d2",
   "metadata": {},
   "outputs": [
    {
     "name": "stderr",
     "output_type": "stream",
     "text": [
      "[Parallel(n_jobs=48)]: Using backend LokyBackend with 48 concurrent workers.\n",
      "[Parallel(n_jobs=48)]: Done   3 out of  10 | elapsed:   26.3s remaining:  1.0min\n"
     ]
    },
    {
     "name": "stdout",
     "output_type": "stream",
     "text": [
      "train_score: 1.0 \n",
      "test_score: 0.8064171122994652\n"
     ]
    },
    {
     "name": "stderr",
     "output_type": "stream",
     "text": [
      "[Parallel(n_jobs=48)]: Done  10 out of  10 | elapsed:   30.0s finished\n"
     ]
    }
   ],
   "source": [
    "clf=SVC(cache_size=5000\n",
    "           ,kernel='poly'\n",
    "           ,gamma=2.196\n",
    "           ,degree=2\n",
    "           ,coef0=24.699\n",
    "           ,probability=True\n",
    "           ,random_state=225)\n",
    "    \n",
    "cv=KFold(n_splits=10,shuffle=True,random_state=5070)\n",
    "result_bench = cross_validate(clf,x_Raman_train,y_Raman_train_two,cv=cv,scoring=\"accuracy\"\n",
    "                          ,return_train_score=True\n",
    "                          ,verbose=1\n",
    "                          \n",
    "                          ,n_jobs=48\n",
    "                          ,error_score='raise')\n",
    "\n",
    "print('train_score:',np.mean(result_bench['train_score'])\n",
    "      ,'\\n''test_score:',np.mean(result_bench['test_score']))\n"
   ]
  },
  {
   "cell_type": "code",
   "execution_count": 12,
   "id": "ccd7020c-a5d3-498f-8410-042f0eaaeb0c",
   "metadata": {},
   "outputs": [
    {
     "data": {
      "text/html": [
       "<div>\n",
       "<style scoped>\n",
       "    .dataframe tbody tr th:only-of-type {\n",
       "        vertical-align: middle;\n",
       "    }\n",
       "\n",
       "    .dataframe tbody tr th {\n",
       "        vertical-align: top;\n",
       "    }\n",
       "\n",
       "    .dataframe thead th {\n",
       "        text-align: right;\n",
       "    }\n",
       "</style>\n",
       "<table border=\"1\" class=\"dataframe\">\n",
       "  <thead>\n",
       "    <tr style=\"text-align: right;\">\n",
       "      <th></th>\n",
       "      <th>accuracy_score</th>\n",
       "      <th>recall_score</th>\n",
       "      <th>precision_score</th>\n",
       "      <th>f1_score</th>\n",
       "    </tr>\n",
       "  </thead>\n",
       "  <tbody>\n",
       "    <tr>\n",
       "      <th>train_eval</th>\n",
       "      <td>1.000000</td>\n",
       "      <td>1.000000</td>\n",
       "      <td>1.000000</td>\n",
       "      <td>1.000000</td>\n",
       "    </tr>\n",
       "    <tr>\n",
       "      <th>test_eval</th>\n",
       "      <td>0.833333</td>\n",
       "      <td>0.857143</td>\n",
       "      <td>0.818182</td>\n",
       "      <td>0.837209</td>\n",
       "    </tr>\n",
       "  </tbody>\n",
       "</table>\n",
       "</div>"
      ],
      "text/plain": [
       "            accuracy_score  recall_score  precision_score  f1_score\n",
       "train_eval        1.000000      1.000000         1.000000  1.000000\n",
       "test_eval         0.833333      0.857143         0.818182  0.837209"
      ]
     },
     "execution_count": 12,
     "metadata": {},
     "output_type": "execute_result"
    }
   ],
   "source": [
    "result_df(clf.fit(x_Raman_train,y_Raman_train_two),x_Raman_train,y_Raman_train_two,x_Raman_test,y_Raman_test_two)"
   ]
  },
  {
   "cell_type": "markdown",
   "id": "56977dab-9f86-49b3-a84e-fc6d8bf353f6",
   "metadata": {},
   "source": [
    "# Combine"
   ]
  },
  {
   "cell_type": "code",
   "execution_count": 13,
   "id": "48c4b8fd-9cbb-4cbf-b98b-6823ad2c6e1a",
   "metadata": {},
   "outputs": [
    {
     "name": "stderr",
     "output_type": "stream",
     "text": [
      "[Parallel(n_jobs=-1)]: Using backend LokyBackend with 8 concurrent workers.\n",
      "[Parallel(n_jobs=-1)]: Done   6 out of  10 | elapsed:   15.9s remaining:   10.6s\n"
     ]
    },
    {
     "name": "stdout",
     "output_type": "stream",
     "text": [
      "train_score: 1.0 \n",
      "test_score: 0.8513368983957219\n"
     ]
    },
    {
     "name": "stderr",
     "output_type": "stream",
     "text": [
      "[Parallel(n_jobs=-1)]: Done  10 out of  10 | elapsed:   17.9s finished\n"
     ]
    }
   ],
   "source": [
    "clf=SVC(cache_size=5000\n",
    "           ,kernel='poly'\n",
    "           ,gamma=7.3587\n",
    "           ,degree=2\n",
    "           ,coef0=23.179\n",
    "           ,probability=True\n",
    "           ,random_state=360)\n",
    "    \n",
    "cv=KFold(n_splits=10,shuffle=True,random_state=360)\n",
    "result_bench = cross_validate(clf,x_Combine_train,y_Combine_train_two,cv=cv,scoring=\"accuracy\"\n",
    "                          ,return_train_score=True\n",
    "                          ,verbose=1\n",
    "                          ,n_jobs=-1\n",
    "                          ,error_score='raise')\n",
    "\n",
    "print('train_score:',np.mean(result_bench['train_score'])\n",
    "      ,'\\n''test_score:',np.mean(result_bench['test_score']))"
   ]
  },
  {
   "cell_type": "code",
   "execution_count": 14,
   "id": "b015ba7b-6776-4922-867c-83df63b49507",
   "metadata": {},
   "outputs": [
    {
     "data": {
      "text/html": [
       "<div>\n",
       "<style scoped>\n",
       "    .dataframe tbody tr th:only-of-type {\n",
       "        vertical-align: middle;\n",
       "    }\n",
       "\n",
       "    .dataframe tbody tr th {\n",
       "        vertical-align: top;\n",
       "    }\n",
       "\n",
       "    .dataframe thead th {\n",
       "        text-align: right;\n",
       "    }\n",
       "</style>\n",
       "<table border=\"1\" class=\"dataframe\">\n",
       "  <thead>\n",
       "    <tr style=\"text-align: right;\">\n",
       "      <th></th>\n",
       "      <th>accuracy_score</th>\n",
       "      <th>recall_score</th>\n",
       "      <th>precision_score</th>\n",
       "      <th>f1_score</th>\n",
       "    </tr>\n",
       "  </thead>\n",
       "  <tbody>\n",
       "    <tr>\n",
       "      <th>train_eval</th>\n",
       "      <td>1.000000</td>\n",
       "      <td>1.000000</td>\n",
       "      <td>1.000000</td>\n",
       "      <td>1.000000</td>\n",
       "    </tr>\n",
       "    <tr>\n",
       "      <th>test_eval</th>\n",
       "      <td>0.857143</td>\n",
       "      <td>0.857143</td>\n",
       "      <td>0.857143</td>\n",
       "      <td>0.857143</td>\n",
       "    </tr>\n",
       "  </tbody>\n",
       "</table>\n",
       "</div>"
      ],
      "text/plain": [
       "            accuracy_score  recall_score  precision_score  f1_score\n",
       "train_eval        1.000000      1.000000         1.000000  1.000000\n",
       "test_eval         0.857143      0.857143         0.857143  0.857143"
      ]
     },
     "execution_count": 14,
     "metadata": {},
     "output_type": "execute_result"
    }
   ],
   "source": [
    "result_df(clf.fit(x_Combine_train,y_Combine_train_two),x_Combine_train,y_Combine_train_two,x_Combine_test,y_Combine_test_two)"
   ]
  },
  {
   "cell_type": "code",
   "execution_count": null,
   "id": "bc9ab154-745a-4dbc-8766-6a2b1ab93d34",
   "metadata": {},
   "outputs": [],
   "source": []
  }
 ],
 "metadata": {
  "kernelspec": {
   "display_name": "Python 3 (ipykernel)",
   "language": "python",
   "name": "python3"
  },
  "language_info": {
   "codemirror_mode": {
    "name": "ipython",
    "version": 3
   },
   "file_extension": ".py",
   "mimetype": "text/x-python",
   "name": "python",
   "nbconvert_exporter": "python",
   "pygments_lexer": "ipython3",
   "version": "3.9.15"
  }
 },
 "nbformat": 4,
 "nbformat_minor": 5
}
